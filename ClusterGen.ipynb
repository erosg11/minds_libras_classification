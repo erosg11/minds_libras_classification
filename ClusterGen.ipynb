{
 "cells": [
  {
   "cell_type": "code",
   "execution_count": 1,
   "id": "7ed76980-5445-4ff8-bb03-5478d46799aa",
   "metadata": {},
   "outputs": [],
   "source": [
    "from tools import OUT_PATH, open_meta_df\n",
    "import pandas as pd\n",
    "import numpy as np\n",
    "from sklearn.cluster import KMeans\n",
    "from tqdm.auto import tqdm\n",
    "from pathlib import Path\n",
    "from functools import reduce\n",
    "from operator import mul\n",
    "import numpy_indexed as npi"
   ]
  },
  {
   "cell_type": "code",
   "execution_count": 2,
   "id": "6e169488-5301-4709-acd7-017a036e02b3",
   "metadata": {},
   "outputs": [],
   "source": [
    "meta_df = open_meta_df()\n",
    "video_id = np.load(OUT_PATH / 'video_id.npy')\n",
    "landmarks = np.load(OUT_PATH / 'landmarks.npy')\n",
    "LEN_CLUSTERS = 10"
   ]
  },
  {
   "cell_type": "code",
   "execution_count": 3,
   "id": "d5ab2d05-6085-4876-a3ea-2974c5ce1d27",
   "metadata": {},
   "outputs": [
    {
     "data": {
      "text/plain": [
       "(147205, 99)"
      ]
     },
     "execution_count": 3,
     "metadata": {},
     "output_type": "execute_result"
    }
   ],
   "source": [
    "new_landmarks_shape = (landmarks.shape[0], reduce(mul, landmarks.shape[1:]))\n",
    "new_landmarks_shape"
   ]
  },
  {
   "cell_type": "code",
   "execution_count": 4,
   "id": "f5a30768-8c6c-436f-aee7-77709098449e",
   "metadata": {},
   "outputs": [
    {
     "data": {
      "text/plain": [
       "(1058, 10, 99)"
      ]
     },
     "execution_count": 4,
     "metadata": {},
     "output_type": "execute_result"
    }
   ],
   "source": [
    "videos_centroids = np.zeros((len(meta_df.index), LEN_CLUSTERS, new_landmarks_shape[1]))\n",
    "videos_centroids.shape"
   ]
  },
  {
   "cell_type": "code",
   "execution_count": 5,
   "id": "0100fb9f-fa00-43f4-be34-87c5573ba348",
   "metadata": {},
   "outputs": [
    {
     "data": {
      "text/plain": [
       "(147205, 99)"
      ]
     },
     "execution_count": 5,
     "metadata": {},
     "output_type": "execute_result"
    }
   ],
   "source": [
    "reshaped_landmarks = landmarks.reshape(new_landmarks_shape)\n",
    "reshaped_landmarks.shape"
   ]
  },
  {
   "cell_type": "code",
   "execution_count": 7,
   "id": "c83d824b-76fd-49e4-853a-3b70db22fb58",
   "metadata": {},
   "outputs": [
    {
     "data": {
      "application/vnd.jupyter.widget-view+json": {
       "model_id": "608f707b50a04337b3dd7eaab5707342",
       "version_major": 2,
       "version_minor": 0
      },
      "text/plain": [
       "  0%|          | 0/1058 [00:00<?, ?it/s]"
      ]
     },
     "metadata": {},
     "output_type": "display_data"
    }
   ],
   "source": [
    "pose_clusters = np.zeros(reshaped_landmarks.shape[0])\n",
    "\n",
    "for i in tqdm(meta_df.index):\n",
    "    data_i = reshaped_landmarks[video_id == i]\n",
    "    kmeans = KMeans(n_clusters=LEN_CLUSTERS, random_state=42, n_init='auto')\n",
    "    prediction = kmeans.fit_predict(data_i)\n",
    "    pose_clusters[video_id == i] = prediction\n",
    "    frame_index = np.arange(data_i.shape[0])\n",
    "    centroids = kmeans.cluster_centers_\n",
    "    median_frame_per_centroid = npi.group_by(prediction).median(frame_index)[1]\n",
    "    videos_centroids[i] = centroids[median_frame_per_centroid.argsort()]"
   ]
  },
  {
   "cell_type": "code",
   "execution_count": 8,
   "id": "16b673da-2bf5-4067-a4df-7b48ceb3305a",
   "metadata": {},
   "outputs": [
    {
     "data": {
      "text/plain": [
       "array([0., 4., 4., 4., 4., 4., 4., 2., 2., 2.])"
      ]
     },
     "execution_count": 8,
     "metadata": {},
     "output_type": "execute_result"
    }
   ],
   "source": [
    "pose_clusters[:10]"
   ]
  },
  {
   "cell_type": "code",
   "execution_count": 9,
   "id": "2ec96775-6c89-4bea-a63b-ce4515eb570c",
   "metadata": {},
   "outputs": [
    {
     "data": {
      "text/plain": [
       "False"
      ]
     },
     "execution_count": 9,
     "metadata": {},
     "output_type": "execute_result"
    }
   ],
   "source": [
    "videos_centroids[videos_centroids == 0].any()"
   ]
  },
  {
   "cell_type": "code",
   "execution_count": 10,
   "id": "ab767c44-faaf-41c2-82a0-219f50ab0928",
   "metadata": {},
   "outputs": [
    {
     "data": {
      "text/plain": [
       "array([[[ 0.52630234,  0.37640212, -0.74534531,  0.53798417,\n",
       "          0.34380546],\n",
       "        [ 0.52669251,  0.37396876, -0.61175384,  0.53762975,\n",
       "          0.34276031],\n",
       "        [ 0.52394984,  0.37040039, -0.54449829,  0.53543784,\n",
       "          0.33973884],\n",
       "        [ 0.52109573,  0.37270567, -0.62886719,  0.53314732,\n",
       "          0.34281625],\n",
       "        [ 0.51893888,  0.38486941, -0.58462744,  0.53153155,\n",
       "          0.34882127]],\n",
       "\n",
       "       [[ 0.5213431 ,  0.37912015, -0.61652294,  0.53269162,\n",
       "          0.34605468],\n",
       "        [ 0.52081872,  0.37991759, -0.67531037,  0.53272256,\n",
       "          0.34639908],\n",
       "        [ 0.5176312 ,  0.36193799, -0.39678858,  0.52953316,\n",
       "          0.33261918],\n",
       "        [ 0.51749281,  0.3634546 , -0.50517845,  0.52935344,\n",
       "          0.33418927],\n",
       "        [ 0.51814898,  0.36386488, -0.64655181,  0.52996747,\n",
       "          0.33534366]],\n",
       "\n",
       "       [[ 0.51914605,  0.38226161, -0.7385072 ,  0.53054488,\n",
       "          0.34744609],\n",
       "        [ 0.5180881 ,  0.37170506, -0.66115797,  0.53029671,\n",
       "          0.33986496],\n",
       "        [ 0.51807235,  0.35503678, -0.52459811,  0.53041371,\n",
       "          0.32776132],\n",
       "        [ 0.5195634 ,  0.34937426, -0.47310944,  0.5320403 ,\n",
       "          0.32233687],\n",
       "        [ 0.52175547,  0.35860791, -0.60579043,  0.53374796,\n",
       "          0.32927331]],\n",
       "\n",
       "       [[ 0.51692492,  0.3677076 , -0.43400225,  0.52770084,\n",
       "          0.33803309],\n",
       "        [ 0.5142599 ,  0.36160031, -0.40295558,  0.52596446,\n",
       "          0.33280588],\n",
       "        [ 0.51422178,  0.35852598, -0.61492125,  0.52572649,\n",
       "          0.32947689],\n",
       "        [ 0.51692231,  0.37856362, -0.6952225 ,  0.52742954,\n",
       "          0.34417864],\n",
       "        [ 0.51096772,  0.37619   , -0.51260052,  0.52291142,\n",
       "          0.3405119 ]],\n",
       "\n",
       "       [[ 0.5261578 ,  0.37722208, -0.69532738,  0.53582117,\n",
       "          0.34413406],\n",
       "        [ 0.52430942,  0.36958064, -0.67517603,  0.53484707,\n",
       "          0.33895183],\n",
       "        [ 0.51719556,  0.34922689, -0.44683594,  0.52955759,\n",
       "          0.32388635],\n",
       "        [ 0.51622228,  0.3479124 , -0.54492811,  0.52850991,\n",
       "          0.32189029],\n",
       "        [ 0.51875574,  0.35129614, -0.50542094,  0.53029989,\n",
       "          0.32357395]]])"
      ]
     },
     "execution_count": 10,
     "metadata": {},
     "output_type": "execute_result"
    }
   ],
   "source": [
    "videos_centroids[:5,:5,:5]"
   ]
  },
  {
   "cell_type": "code",
   "execution_count": 11,
   "id": "08176f93-d09f-42d1-b151-1c9b85f6141a",
   "metadata": {},
   "outputs": [],
   "source": [
    "np.save(OUT_PATH / 'videos_centroids', videos_centroids)\n",
    "np.save(OUT_PATH / 'pose_clusters', pose_clusters)"
   ]
  },
  {
   "cell_type": "code",
   "execution_count": null,
   "id": "e71f61de-2931-477a-8b3b-b957f2b18ff8",
   "metadata": {},
   "outputs": [],
   "source": []
  }
 ],
 "metadata": {
  "kernelspec": {
   "display_name": "Python 3 (ipykernel)",
   "language": "python",
   "name": "python3"
  },
  "language_info": {
   "codemirror_mode": {
    "name": "ipython",
    "version": 3
   },
   "file_extension": ".py",
   "mimetype": "text/x-python",
   "name": "python",
   "nbconvert_exporter": "python",
   "pygments_lexer": "ipython3",
   "version": "3.11.3"
  }
 },
 "nbformat": 4,
 "nbformat_minor": 5
}
