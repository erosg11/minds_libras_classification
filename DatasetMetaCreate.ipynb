{
 "cells": [
  {
   "cell_type": "code",
   "execution_count": 1,
   "id": "8adb9651-2cbf-4a68-8683-050678154aa6",
   "metadata": {},
   "outputs": [],
   "source": [
    "import pandas as pd\n",
    "from pathlib import Path"
   ]
  },
  {
   "cell_type": "code",
   "execution_count": 2,
   "id": "2adfa64d-53b6-4ddc-9a48-e83833760a8b",
   "metadata": {},
   "outputs": [
    {
     "data": {
      "text/plain": [
       "PosixPath('/media/eros/BackupMae/datasets/Minds')"
      ]
     },
     "execution_count": 2,
     "metadata": {},
     "output_type": "execute_result"
    }
   ],
   "source": [
    "BASE_PATH = Path('/media/eros/BackupMae/datasets/Minds')\n",
    "BASE_PATH"
   ]
  },
  {
   "cell_type": "code",
   "execution_count": 3,
   "id": "ac09931e-5348-473d-9768-7aa59430cc19",
   "metadata": {},
   "outputs": [
    {
     "data": {
      "text/plain": [
       "1058"
      ]
     },
     "execution_count": 3,
     "metadata": {},
     "output_type": "execute_result"
    }
   ],
   "source": [
    "videos = list(BASE_PATH.glob('*/*/*.mp4'))\n",
    "len(videos)"
   ]
  },
  {
   "cell_type": "code",
   "execution_count": 4,
   "id": "d00cc1cb-5edf-41d1-b457-30c9a7296f40",
   "metadata": {},
   "outputs": [
    {
     "data": {
      "text/html": [
       "<div>\n",
       "<style scoped>\n",
       "    .dataframe tbody tr th:only-of-type {\n",
       "        vertical-align: middle;\n",
       "    }\n",
       "\n",
       "    .dataframe tbody tr th {\n",
       "        vertical-align: top;\n",
       "    }\n",
       "\n",
       "    .dataframe thead th {\n",
       "        text-align: right;\n",
       "    }\n",
       "</style>\n",
       "<table border=\"1\" class=\"dataframe\">\n",
       "  <thead>\n",
       "    <tr style=\"text-align: right;\">\n",
       "      <th></th>\n",
       "      <th>filename</th>\n",
       "      <th>stem</th>\n",
       "    </tr>\n",
       "  </thead>\n",
       "  <tbody>\n",
       "    <tr>\n",
       "      <th>0</th>\n",
       "      <td>/media/eros/BackupMae/datasets/Minds/Sinalizad...</td>\n",
       "      <td>01AcontecerSinalizador01-1</td>\n",
       "    </tr>\n",
       "    <tr>\n",
       "      <th>1</th>\n",
       "      <td>/media/eros/BackupMae/datasets/Minds/Sinalizad...</td>\n",
       "      <td>01AcontecerSinalizador01-2</td>\n",
       "    </tr>\n",
       "    <tr>\n",
       "      <th>2</th>\n",
       "      <td>/media/eros/BackupMae/datasets/Minds/Sinalizad...</td>\n",
       "      <td>01AcontecerSinalizador01-3</td>\n",
       "    </tr>\n",
       "    <tr>\n",
       "      <th>3</th>\n",
       "      <td>/media/eros/BackupMae/datasets/Minds/Sinalizad...</td>\n",
       "      <td>01AcontecerSinalizador01-4</td>\n",
       "    </tr>\n",
       "    <tr>\n",
       "      <th>4</th>\n",
       "      <td>/media/eros/BackupMae/datasets/Minds/Sinalizad...</td>\n",
       "      <td>01AcontecerSinalizador01-5</td>\n",
       "    </tr>\n",
       "  </tbody>\n",
       "</table>\n",
       "</div>"
      ],
      "text/plain": [
       "                                            filename  \\\n",
       "0  /media/eros/BackupMae/datasets/Minds/Sinalizad...   \n",
       "1  /media/eros/BackupMae/datasets/Minds/Sinalizad...   \n",
       "2  /media/eros/BackupMae/datasets/Minds/Sinalizad...   \n",
       "3  /media/eros/BackupMae/datasets/Minds/Sinalizad...   \n",
       "4  /media/eros/BackupMae/datasets/Minds/Sinalizad...   \n",
       "\n",
       "                         stem  \n",
       "0  01AcontecerSinalizador01-1  \n",
       "1  01AcontecerSinalizador01-2  \n",
       "2  01AcontecerSinalizador01-3  \n",
       "3  01AcontecerSinalizador01-4  \n",
       "4  01AcontecerSinalizador01-5  "
      ]
     },
     "execution_count": 4,
     "metadata": {},
     "output_type": "execute_result"
    }
   ],
   "source": [
    "df = pd.DataFrame([[str(x), x.stem] for x in videos], columns=['filename', 'stem'])\n",
    "df.head()"
   ]
  },
  {
   "cell_type": "code",
   "execution_count": 5,
   "id": "3ca0e4c9-537d-4607-9e49-490358167d4b",
   "metadata": {},
   "outputs": [
    {
     "data": {
      "text/html": [
       "<div>\n",
       "<style scoped>\n",
       "    .dataframe tbody tr th:only-of-type {\n",
       "        vertical-align: middle;\n",
       "    }\n",
       "\n",
       "    .dataframe tbody tr th {\n",
       "        vertical-align: top;\n",
       "    }\n",
       "\n",
       "    .dataframe thead th {\n",
       "        text-align: right;\n",
       "    }\n",
       "</style>\n",
       "<table border=\"1\" class=\"dataframe\">\n",
       "  <thead>\n",
       "    <tr style=\"text-align: right;\">\n",
       "      <th></th>\n",
       "      <th>filename</th>\n",
       "      <th>stem</th>\n",
       "      <th>pose_id</th>\n",
       "      <th>word</th>\n",
       "      <th>sinalizador</th>\n",
       "      <th>repetition</th>\n",
       "    </tr>\n",
       "  </thead>\n",
       "  <tbody>\n",
       "    <tr>\n",
       "      <th>0</th>\n",
       "      <td>/media/eros/BackupMae/datasets/Minds/Sinalizad...</td>\n",
       "      <td>01AcontecerSinalizador01-1</td>\n",
       "      <td>01</td>\n",
       "      <td>Acontecer</td>\n",
       "      <td>01</td>\n",
       "      <td>1</td>\n",
       "    </tr>\n",
       "    <tr>\n",
       "      <th>1</th>\n",
       "      <td>/media/eros/BackupMae/datasets/Minds/Sinalizad...</td>\n",
       "      <td>01AcontecerSinalizador01-2</td>\n",
       "      <td>01</td>\n",
       "      <td>Acontecer</td>\n",
       "      <td>01</td>\n",
       "      <td>2</td>\n",
       "    </tr>\n",
       "    <tr>\n",
       "      <th>2</th>\n",
       "      <td>/media/eros/BackupMae/datasets/Minds/Sinalizad...</td>\n",
       "      <td>01AcontecerSinalizador01-3</td>\n",
       "      <td>01</td>\n",
       "      <td>Acontecer</td>\n",
       "      <td>01</td>\n",
       "      <td>3</td>\n",
       "    </tr>\n",
       "    <tr>\n",
       "      <th>3</th>\n",
       "      <td>/media/eros/BackupMae/datasets/Minds/Sinalizad...</td>\n",
       "      <td>01AcontecerSinalizador01-4</td>\n",
       "      <td>01</td>\n",
       "      <td>Acontecer</td>\n",
       "      <td>01</td>\n",
       "      <td>4</td>\n",
       "    </tr>\n",
       "    <tr>\n",
       "      <th>4</th>\n",
       "      <td>/media/eros/BackupMae/datasets/Minds/Sinalizad...</td>\n",
       "      <td>01AcontecerSinalizador01-5</td>\n",
       "      <td>01</td>\n",
       "      <td>Acontecer</td>\n",
       "      <td>01</td>\n",
       "      <td>5</td>\n",
       "    </tr>\n",
       "  </tbody>\n",
       "</table>\n",
       "</div>"
      ],
      "text/plain": [
       "                                            filename  \\\n",
       "0  /media/eros/BackupMae/datasets/Minds/Sinalizad...   \n",
       "1  /media/eros/BackupMae/datasets/Minds/Sinalizad...   \n",
       "2  /media/eros/BackupMae/datasets/Minds/Sinalizad...   \n",
       "3  /media/eros/BackupMae/datasets/Minds/Sinalizad...   \n",
       "4  /media/eros/BackupMae/datasets/Minds/Sinalizad...   \n",
       "\n",
       "                         stem pose_id       word sinalizador repetition  \n",
       "0  01AcontecerSinalizador01-1      01  Acontecer          01          1  \n",
       "1  01AcontecerSinalizador01-2      01  Acontecer          01          2  \n",
       "2  01AcontecerSinalizador01-3      01  Acontecer          01          3  \n",
       "3  01AcontecerSinalizador01-4      01  Acontecer          01          4  \n",
       "4  01AcontecerSinalizador01-5      01  Acontecer          01          5  "
      ]
     },
     "execution_count": 5,
     "metadata": {},
     "output_type": "execute_result"
    }
   ],
   "source": [
    "df[['pose_id', 'word', 'sinalizador', 'repetition']] = df['stem'].str.extract(r'^(\\d+)(\\w+)Sinalizador(\\d+)-(\\d+)$')\n",
    "df.head()"
   ]
  },
  {
   "cell_type": "code",
   "execution_count": 7,
   "id": "ac9fc1f2-7355-4198-868a-a1a1e079ecfd",
   "metadata": {},
   "outputs": [
    {
     "data": {
      "text/plain": [
       "filename       False\n",
       "stem           False\n",
       "pose_id        False\n",
       "word           False\n",
       "sinalizador    False\n",
       "repetition     False\n",
       "dtype: bool"
      ]
     },
     "execution_count": 7,
     "metadata": {},
     "output_type": "execute_result"
    }
   ],
   "source": [
    "(pd.isnull(df) | pd.isna(df)).any()"
   ]
  },
  {
   "cell_type": "code",
   "execution_count": 9,
   "id": "41efc28c-04e0-4fbc-b4e2-d17c27ba4878",
   "metadata": {},
   "outputs": [
    {
     "name": "stdout",
     "output_type": "stream",
     "text": [
      "<class 'pandas.core.frame.DataFrame'>\n",
      "RangeIndex: 1058 entries, 0 to 1057\n",
      "Data columns (total 6 columns):\n",
      " #   Column       Non-Null Count  Dtype   \n",
      "---  ------       --------------  -----   \n",
      " 0   filename     1058 non-null   string  \n",
      " 1   stem         1058 non-null   string  \n",
      " 2   pose_id      1058 non-null   int64   \n",
      " 3   word         1058 non-null   category\n",
      " 4   sinalizador  1058 non-null   int64   \n",
      " 5   repetition   1058 non-null   int64   \n",
      "dtypes: category(1), int64(3), string(2)\n",
      "memory usage: 43.2 KB\n"
     ]
    }
   ],
   "source": [
    "df['pose_id'] = pd.to_numeric(df['pose_id'])\n",
    "df['sinalizador'] = pd.to_numeric(df['sinalizador'])\n",
    "df['repetition'] = pd.to_numeric(df['repetition'])\n",
    "df['word'] = df['word'].astype('category')\n",
    "df['filename'] = df['filename'].astype('string')\n",
    "df['stem'] = df['stem'].astype('string')\n",
    "df.info()"
   ]
  },
  {
   "cell_type": "code",
   "execution_count": 10,
   "id": "ffa6a59b-c589-493a-97ab-572327d27134",
   "metadata": {},
   "outputs": [],
   "source": [
    "df.to_csv('Outs/dataset_metadata.csv.gz')"
   ]
  },
  {
   "cell_type": "code",
   "execution_count": null,
   "id": "6d0052f5-dd30-419e-9dd8-b1be0d077875",
   "metadata": {},
   "outputs": [],
   "source": []
  }
 ],
 "metadata": {
  "kernelspec": {
   "display_name": "Python 3 (ipykernel)",
   "language": "python",
   "name": "python3"
  },
  "language_info": {
   "codemirror_mode": {
    "name": "ipython",
    "version": 3
   },
   "file_extension": ".py",
   "mimetype": "text/x-python",
   "name": "python",
   "nbconvert_exporter": "python",
   "pygments_lexer": "ipython3",
   "version": "3.11.3"
  }
 },
 "nbformat": 4,
 "nbformat_minor": 5
}
