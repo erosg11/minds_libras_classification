{
 "cells": [
  {
   "cell_type": "code",
   "execution_count": 1,
   "id": "62884d4f-8d53-45ea-acb5-ef137c08dad6",
   "metadata": {},
   "outputs": [],
   "source": [
    "import pandas as pd\n",
    "from sklearn.model_selection import StratifiedKFold\n",
    "import numpy as np\n",
    "from tools import BASE_PATH, OUT_PATH, open_meta_df"
   ]
  },
  {
   "cell_type": "code",
   "execution_count": 2,
   "id": "3316f81c-81c2-420e-9014-04fe88efff0f",
   "metadata": {},
   "outputs": [
    {
     "data": {
      "text/html": [
       "<div>\n",
       "<style scoped>\n",
       "    .dataframe tbody tr th:only-of-type {\n",
       "        vertical-align: middle;\n",
       "    }\n",
       "\n",
       "    .dataframe tbody tr th {\n",
       "        vertical-align: top;\n",
       "    }\n",
       "\n",
       "    .dataframe thead th {\n",
       "        text-align: right;\n",
       "    }\n",
       "</style>\n",
       "<table border=\"1\" class=\"dataframe\">\n",
       "  <thead>\n",
       "    <tr style=\"text-align: right;\">\n",
       "      <th></th>\n",
       "      <th>filename</th>\n",
       "      <th>stem</th>\n",
       "      <th>pose_id</th>\n",
       "      <th>word</th>\n",
       "      <th>sinalizador</th>\n",
       "      <th>repetition</th>\n",
       "    </tr>\n",
       "  </thead>\n",
       "  <tbody>\n",
       "    <tr>\n",
       "      <th>0</th>\n",
       "      <td>/media/eros/BackupMae/datasets/Minds/Sinalizad...</td>\n",
       "      <td>01AcontecerSinalizador07-1</td>\n",
       "      <td>1</td>\n",
       "      <td>Acontecer</td>\n",
       "      <td>7</td>\n",
       "      <td>1</td>\n",
       "    </tr>\n",
       "    <tr>\n",
       "      <th>1</th>\n",
       "      <td>/media/eros/BackupMae/datasets/Minds/Sinalizad...</td>\n",
       "      <td>01AcontecerSinalizador07-2</td>\n",
       "      <td>1</td>\n",
       "      <td>Acontecer</td>\n",
       "      <td>7</td>\n",
       "      <td>2</td>\n",
       "    </tr>\n",
       "    <tr>\n",
       "      <th>2</th>\n",
       "      <td>/media/eros/BackupMae/datasets/Minds/Sinalizad...</td>\n",
       "      <td>01AcontecerSinalizador07-3</td>\n",
       "      <td>1</td>\n",
       "      <td>Acontecer</td>\n",
       "      <td>7</td>\n",
       "      <td>3</td>\n",
       "    </tr>\n",
       "    <tr>\n",
       "      <th>3</th>\n",
       "      <td>/media/eros/BackupMae/datasets/Minds/Sinalizad...</td>\n",
       "      <td>01AcontecerSinalizador07-4</td>\n",
       "      <td>1</td>\n",
       "      <td>Acontecer</td>\n",
       "      <td>7</td>\n",
       "      <td>4</td>\n",
       "    </tr>\n",
       "    <tr>\n",
       "      <th>4</th>\n",
       "      <td>/media/eros/BackupMae/datasets/Minds/Sinalizad...</td>\n",
       "      <td>01AcontecerSinalizador07-5</td>\n",
       "      <td>1</td>\n",
       "      <td>Acontecer</td>\n",
       "      <td>7</td>\n",
       "      <td>5</td>\n",
       "    </tr>\n",
       "  </tbody>\n",
       "</table>\n",
       "</div>"
      ],
      "text/plain": [
       "                                            filename  \\\n",
       "0  /media/eros/BackupMae/datasets/Minds/Sinalizad...   \n",
       "1  /media/eros/BackupMae/datasets/Minds/Sinalizad...   \n",
       "2  /media/eros/BackupMae/datasets/Minds/Sinalizad...   \n",
       "3  /media/eros/BackupMae/datasets/Minds/Sinalizad...   \n",
       "4  /media/eros/BackupMae/datasets/Minds/Sinalizad...   \n",
       "\n",
       "                         stem  pose_id       word  sinalizador  repetition  \n",
       "0  01AcontecerSinalizador07-1        1  Acontecer            7           1  \n",
       "1  01AcontecerSinalizador07-2        1  Acontecer            7           2  \n",
       "2  01AcontecerSinalizador07-3        1  Acontecer            7           3  \n",
       "3  01AcontecerSinalizador07-4        1  Acontecer            7           4  \n",
       "4  01AcontecerSinalizador07-5        1  Acontecer            7           5  "
      ]
     },
     "execution_count": 2,
     "metadata": {},
     "output_type": "execute_result"
    }
   ],
   "source": [
    "fold_path = OUT_PATH / 'Folds'\n",
    "meta_df = open_meta_df()\n",
    "meta_df.head()"
   ]
  },
  {
   "cell_type": "code",
   "execution_count": 3,
   "id": "99dc2937-6898-4e71-b5d1-a9329e41a0b5",
   "metadata": {},
   "outputs": [
    {
     "data": {
      "text/plain": [
       "array([[0],\n",
       "       [1],\n",
       "       [2],\n",
       "       [3],\n",
       "       [4]])"
      ]
     },
     "execution_count": 3,
     "metadata": {},
     "output_type": "execute_result"
    }
   ],
   "source": [
    "X = np.array(meta_df.index).reshape((-1, 1))\n",
    "X[:5]"
   ]
  },
  {
   "cell_type": "code",
   "execution_count": 4,
   "id": "20cf70ba-2386-4199-b7af-c75d449a2732",
   "metadata": {},
   "outputs": [
    {
     "data": {
      "text/plain": [
       "array([1, 1, 1, 1, 1])"
      ]
     },
     "execution_count": 4,
     "metadata": {},
     "output_type": "execute_result"
    }
   ],
   "source": [
    "y = meta_df['pose_id'].values\n",
    "y[:5]"
   ]
  },
  {
   "cell_type": "code",
   "execution_count": 5,
   "id": "9c039401-ea16-4544-8906-c0d15cf093c2",
   "metadata": {},
   "outputs": [],
   "source": [
    "skf = StratifiedKFold(n_splits=5, shuffle=True, random_state=42)\n",
    "for i, (train_index, test_index) in enumerate(skf.split(X, y)):\n",
    "    fold_index = fold_path / str(i)\n",
    "    fold_index.mkdir(exist_ok=True, parents=True)\n",
    "    np.save(fold_index / f'test', test_index)\n",
    "    np.save(fold_index / f'train', train_index)"
   ]
  },
  {
   "cell_type": "code",
   "execution_count": null,
   "id": "babdf05b-7109-4693-ad80-8b5f501f7ba1",
   "metadata": {},
   "outputs": [],
   "source": []
  }
 ],
 "metadata": {
  "kernelspec": {
   "display_name": "Python 3 (ipykernel)",
   "language": "python",
   "name": "python3"
  },
  "language_info": {
   "codemirror_mode": {
    "name": "ipython",
    "version": 3
   },
   "file_extension": ".py",
   "mimetype": "text/x-python",
   "name": "python",
   "nbconvert_exporter": "python",
   "pygments_lexer": "ipython3",
   "version": "3.11.3"
  }
 },
 "nbformat": 4,
 "nbformat_minor": 5
}
